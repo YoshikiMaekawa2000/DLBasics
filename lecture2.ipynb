{
 "cells": [
  {
   "cell_type": "code",
   "execution_count": null,
   "metadata": {},
   "outputs": [],
   "source": [
    "from sklearn.utils import shuffle\n",
    "from sklearn.metrics import accuracy_score\n",
    "from sklearn.model_selection import train_test_split\n",
    "from keras.datasets import mnist\n",
    "import numpy as np\n",
    "\n",
    "np.random.seed(34)"
   ]
  },
  {
   "attachments": {},
   "cell_type": "markdown",
   "metadata": {},
   "source": [
    "## ロジスティック回帰の実装と学習(OR)"
   ]
  },
  {
   "attachments": {},
   "cell_type": "markdown",
   "metadata": {},
   "source": [
    "### シグモイド関数\n",
    "$$\n",
    "    h({\\bf x}) = \\frac{1}{1 + \\exp(-{\\bf x})} = \\frac{\\exp({\\bf x})}{1 + \\exp({\\bf x})}\n",
    "$$"
   ]
  },
  {
   "cell_type": "code",
   "execution_count": null,
   "metadata": {},
   "outputs": [],
   "source": [
    "def sigmoid(x):\n",
    "\n",
    "    #単純な実装\n",
    "    #return 1 / (1+np.exp(-x))\n",
    "\n",
    "    #expのoverflow対策をした実装\n",
    "    # x => 0のとき　sigmoid(x) = 1/ (1+exp(-x))\n",
    "    # x <  0のとき  sigmoid(x) = exp(x) / (1+exp(x))\n",
    "    return np.exp(np.minimum(x, 0))/(1+np.exp(-np.abs(x)))"
   ]
  },
  {
   "cell_type": "code",
   "execution_count": null,
   "metadata": {},
   "outputs": [],
   "source": [
    "#ORのデータセット\n",
    "x_train_or = np.array([[0, 1], [1, 0], [0, 0], [1, 1]])\n",
    "y_train_or = np.array([[1], [1], [0], [1]])\n",
    "x_valid_or, y_valid_or = x_train_or, y_train_or\n",
    "x_test_or, y_test_or = x_train_or, y_train_or\n",
    "\n",
    "W_or = np.random.uniform(low=-0.08, high=0.08, size=(2,1)).astype(\"float32\")\n",
    "b_or = np.zeros(shape=(1,)).astype(\"float32\")"
   ]
  },
  {
   "cell_type": "code",
   "execution_count": null,
   "metadata": {},
   "outputs": [],
   "source": [
    "def np_log(x):\n",
    "    return np.log(np.clip(a=x, a_max=1e+10, a_min=1e-10))"
   ]
  },
  {
   "cell_type": "code",
   "execution_count": null,
   "metadata": {},
   "outputs": [],
   "source": [
    "def train_or(x, y, epa = 1.0):\n",
    "\n",
    "    global W_or, b_or\n",
    "\n",
    "    batch_size = x.shape[0]\n",
    "\n",
    "    y_hat = sigmoid(np.matmul(x, W_or)+ b_or)\n",
    "\n",
    "    cost = -(y*np_log(y_hat) + (1-y)*np_log(1-y_hat)).mean()\n",
    "    delta = y_hat - y\n",
    "\n",
    "    #この２行理解不足\n",
    "    dW = np.matmul(x.T, delta) /batch_size \n",
    "    db = np.matmul(np.ones(shape=(batch_size, )), delta)/batch_size\n",
    "\n",
    "    W_or -= dW * epa\n",
    "    b_or -= db * epa\n",
    "\n",
    "    return cost, y_hat\n",
    "\n",
    "def valid_or(x, y):\n",
    "    y_hat = sigmoid(np.matmul(x, W_or)+b_or)\n",
    "    cost = -(y*np_log(y_hat)+ (1-y)*np_log(1-y_hat)).mean()\n",
    "\n",
    "    return cost, y_hat\n",
    "\n",
    "\n",
    "    "
   ]
  },
  {
   "cell_type": "code",
   "execution_count": null,
   "metadata": {},
   "outputs": [],
   "source": [
    "for epoch in range(1000):\n",
    "    x_train_or, y_train_or = shuffle(x_train_or, y_train_or)\n",
    "    cost = train_or(x_train_or, y_train_or)\n",
    "    cost, y_pred = valid_or(x_valid_or, y_valid_or)\n",
    "print(y_pred)"
   ]
  },
  {
   "attachments": {},
   "cell_type": "markdown",
   "metadata": {},
   "source": [
    "### MNIST分類(ソフトマックス回帰の実装)"
   ]
  },
  {
   "cell_type": "code",
   "execution_count": null,
   "metadata": {},
   "outputs": [],
   "source": [
    "def softmax(x):\n",
    "    x -= x.max(axis=1, keepdims=True)\n",
    "    x_exp = np.exp(x)\n",
    "    return x_exp/np.sum(x_exp, axis=1, keepdims=True)\n"
   ]
  },
  {
   "cell_type": "code",
   "execution_count": null,
   "metadata": {},
   "outputs": [],
   "source": [
    "(x_mnist_1, y_mnist_1), (x_mnist_2, y_mnist_2) = mnist.load_data()\n",
    "\n",
    "x_mnist = np.r_[x_mnist_1, x_mnist_2]   #縦方向に結合\n",
    "y_mnist = np.r_[y_mnist_1, y_mnist_2]\n",
    "\n",
    "x_mnist = x_mnist.astype(\"float32\")/255.\n",
    "y_mnist = np.eye(N=10)[y_mnist.astype(\"int32\").flatten()]   #eye:単位行列を作成\n",
    "\n",
    "x_mnist=x_mnist.reshape(x_mnist.shape[0], -1)\n",
    "\n",
    "x_train_mnist, x_test_mnist, y_train_mnist, y_test_mnist = train_test_split(x_mnist, y_mnist, test_size=10000)\n",
    "x_train_mnist, x_valid_mnist, y_train_mnist, y_valid_mnist = train_test_split(x_train_mnist, y_train_mnist, test_size=10000)"
   ]
  },
  {
   "cell_type": "code",
   "execution_count": null,
   "metadata": {},
   "outputs": [],
   "source": [
    "W_mnist = np.random.uniform(low=-0.08, high=0.08, size=(784, 10)).astype(\"float32\")\n",
    "b_mnist = np.zeros(shape=(10,)).astype(\"float32\")"
   ]
  },
  {
   "cell_type": "code",
   "execution_count": null,
   "metadata": {},
   "outputs": [],
   "source": [
    "def train_mnist(x, y, eps=1.0):\n",
    "\n",
    "    global W_mnist, b_mnist\n",
    "    batch_size = x.shape[0]\n",
    "\n",
    "    y_hat = sigmoid(np.matmul(x, W_mnist) + b_mnist)\n",
    "\n",
    "    cost = (-y*np_log(y_hat)).sum(axis=1).mean()\n",
    "    delta = y_hat - y\n",
    "\n",
    "    dW = np.matmul(x.T, delta) /batch_size\n",
    "    db = np.matmul(np.ones(shape=(batch_size, )), delta) /batch_size\n",
    "    W_mnist -= dW*eps\n",
    "    b_mnist -= db*eps\n",
    "\n",
    "    return cost\n",
    "\n",
    "def valid_mnist(x, y):\n",
    "    y_hat = sigmoid(np.matmul(x, W_mnist) +b_mnist)\n",
    "    cost = (-y*np_log(y_hat)).sum(axis=1).mean()\n",
    "\n",
    "    return cost, y_hat"
   ]
  },
  {
   "cell_type": "code",
   "execution_count": null,
   "metadata": {},
   "outputs": [],
   "source": [
    "for epoch in range(100):\n",
    "    x_train_mnist, y_train_mnist = shuffle(x_train_mnist, y_train_mnist)\n",
    "    cost = train_mnist(x_train_mnist, y_train_mnist)\n",
    "    cost, y_pred = valid_mnist(x_valid_mnist, y_valid_mnist)\n",
    "    if epoch % 10 == 9 or epoch == 0:\n",
    "        print('EPOCH: {}, Valid Cost: {:.3f}, Valid Accuracy: {:.3f}'.format(\n",
    "            epoch + 1,\n",
    "            cost,\n",
    "            accuracy_score(y_valid_mnist.argmax(axis=1), y_pred.argmax(axis=1))\n",
    "        ))"
   ]
  }
 ],
 "metadata": {
  "kernelspec": {
   "display_name": "Python 3",
   "language": "python",
   "name": "python3"
  },
  "language_info": {
   "codemirror_mode": {
    "name": "ipython",
    "version": 3
   },
   "file_extension": ".py",
   "mimetype": "text/x-python",
   "name": "python",
   "nbconvert_exporter": "python",
   "pygments_lexer": "ipython3",
   "version": "3.8.10"
  },
  "orig_nbformat": 4
 },
 "nbformat": 4,
 "nbformat_minor": 2
}
