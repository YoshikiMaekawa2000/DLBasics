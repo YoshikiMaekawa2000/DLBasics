{
 "cells": [
  {
   "cell_type": "code",
   "execution_count": 10,
   "metadata": {},
   "outputs": [],
   "source": [
    "from sklearn.utils import shuffle\n",
    "from sklearn.metrics import accuracy_score\n",
    "from sklearn.model_selection import train_test_split\n",
    "from keras.datasets import mnist\n",
    "import numpy as np\n",
    "\n",
    "np.random.seed(34)"
   ]
  },
  {
   "cell_type": "code",
   "execution_count": 12,
   "metadata": {},
   "outputs": [],
   "source": [
    "def sigmoid(x):\n",
    "\n",
    "    return np.exp(np.minimum(x, 0))/1+np.exp(-np.abs(x))"
   ]
  },
  {
   "cell_type": "code",
   "execution_count": 15,
   "metadata": {},
   "outputs": [],
   "source": [
    "#ORのデータセット\n",
    "x_train_or = np.array([[0, 1], [1, 0], [0, 0], [1, 1]])\n",
    "y_train_or = np.array([[1], [1], [0], [1]])\n",
    "x_valid_or, y_valid_or = x_train_or, y_train_or\n",
    "x_test_or, y_test_or = x_train_or, y_train_or\n",
    "\n",
    "W_or = np.random.uniform(low=-0.08, high=0.08, size=(2,1)).astype(\"float32\")\n",
    "b_or = np.zeros(shape=(1,)).astype(\"float32\")"
   ]
  },
  {
   "cell_type": "code",
   "execution_count": 2,
   "metadata": {},
   "outputs": [],
   "source": [
    "def np_log(x):\n",
    "    return np.log(np.clip(a=x, a_max=1e+10, a_min=1e-10))"
   ]
  },
  {
   "cell_type": "code",
   "execution_count": 3,
   "metadata": {},
   "outputs": [],
   "source": [
    "def train_or(x, y, epa = 1.0):\n",
    "\n",
    "    global W_or, b_or\n",
    "\n",
    "    batch_size = x.shape[0]\n",
    "\n",
    "    y_hat = sigmoid(np.matmul(W_or, x)+ b_or)\n",
    "\n",
    "    cost = -(y*np_log(y_hat) + (1-y)*np_log(1-y_hat)).mean()\n",
    "    delta = y_hat - y\n",
    "\n",
    "    "
   ]
  }
 ],
 "metadata": {
  "kernelspec": {
   "display_name": "Python 3",
   "language": "python",
   "name": "python3"
  },
  "language_info": {
   "codemirror_mode": {
    "name": "ipython",
    "version": 3
   },
   "file_extension": ".py",
   "mimetype": "text/x-python",
   "name": "python",
   "nbconvert_exporter": "python",
   "pygments_lexer": "ipython3",
   "version": "3.8.10"
  },
  "orig_nbformat": 4
 },
 "nbformat": 4,
 "nbformat_minor": 2
}
